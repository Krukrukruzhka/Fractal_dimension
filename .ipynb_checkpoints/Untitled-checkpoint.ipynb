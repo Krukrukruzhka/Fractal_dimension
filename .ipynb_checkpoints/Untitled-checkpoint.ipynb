{
 "cells": [
  {
   "cell_type": "code",
   "execution_count": 41,
   "id": "594b6ca9",
   "metadata": {},
   "outputs": [],
   "source": [
    "import matplotlib.pyplot as plt\n",
    "import seaborn as sns\n",
    "import numpy as np\n",
    "import random as rnd"
   ]
  },
  {
   "cell_type": "code",
   "execution_count": 42,
   "id": "da2b159d",
   "metadata": {
    "scrolled": true
   },
   "outputs": [],
   "source": [
    "arr = []\n",
    "for i in range(1000000):\n",
    "    arr.append(rnd.randint(0, 100))"
   ]
  },
  {
   "cell_type": "code",
   "execution_count": 43,
   "id": "e5c397d4",
   "metadata": {},
   "outputs": [
    {
     "name": "stderr",
     "output_type": "stream",
     "text": [
      "C:\\ProgramData\\Anaconda3\\lib\\site-packages\\seaborn\\distributions.py:2619: FutureWarning: `distplot` is a deprecated function and will be removed in a future version. Please adapt your code to use either `displot` (a figure-level function with similar flexibility) or `histplot` (an axes-level function for histograms).\n",
      "  warnings.warn(msg, FutureWarning)\n"
     ]
    },
    {
     "data": {
      "text/plain": [
       "<AxesSubplot:ylabel='Density'>"
      ]
     },
     "execution_count": 43,
     "metadata": {},
     "output_type": "execute_result"
    },
    {
     "data": {
      "image/png": "[encoded data removed]",
      "text/plain": [
       "<Figure size 640x480 with 1 Axes>"
      ]
     },
     "metadata": {},
     "output_type": "display_data"
    }
   ],
   "source": [
    "sns.distplot(arr)"
   ]
  },
  {
   "cell_type": "code",
   "execution_count": null,
   "id": "f3720514",
   "metadata": {},
   "outputs": [],
   "source": [
    "# Работа с первым текстовым полем и первым (верхним) графиком\n",
    "procedure TForm1.Button1Click(Sender: TObject); # Кнопка \"открыть\"\n",
    "begin\n",
    "    memo1.clear; # Многострочное текстовое поле. Хер знает, за что конкретно отвечает это поле. Там отрицательные числа типа -0.73, -0.2, -0.14 \n",
    "    if opendialog1.Execute then\n",
    "        S:=OpenDialog1.FileName; # Чтение файла\n",
    "    assignfile (F, S); # Видимо, S - строка-ссылка на файл, а F - переменная-\"контейнер\"\n",
    "    reset (F); # Открывает для чтения/записи\n",
    "    n:=0; # Кол-во записей (строк в файле)\n",
    "    while not eof(F) do\n",
    "    begin\n",
    "        n:=n+1;\n",
    "        readln (F, S1); # Чтение очередной строки в файле\n",
    "        b[n]:=strtofloat(S1); # Преобразование строки в число и вынесение его в массив\n",
    "        memo1.Lines.Add(S1); # Создание новой записи в текстовом поле и занесение в неё полученное число\n",
    "        series1.AddY(b[n]); # Добавить в график очередное значение \n",
    "    end;\n",
    "end;"
   ]
  },
  {
   "cell_type": "code",
   "execution_count": null,
   "id": "2bf88fc4",
   "metadata": {},
   "outputs": [],
   "source": [
    "# \n",
    "procedure TForm1.Button2Click(Sender: TObject); # Кнопка \"рассчет\"\n",
    "Var\n",
    "i,t,u: integer;\n",
    "m, s, sum, sum1, max, min: real;\n",
    "sigma1, sigma2, r0, r1: real;\n",
    "begin\n",
    "    t:=4; # Значение времени, с которого начинается подсчёт\n",
    "    for i:=2 to n do\n",
    "    begin\n",
    "        sum:=0;\n",
    "        sum1:=0;\n",
    "        for u:=1 to t do\n",
    "            sum:=sum+b[u];\n",
    "        m:=sum/t; # Среднее в диапазоне [1, t]\n",
    "        for u:=1 to t do\n",
    "            sum1:=sum1+(b[u]-m)*(b[u]-m);\n",
    "        s:=sqrt(sum1/t); # Стандартное отклонение в диапазоне [1, t]\n",
    "        for u:=1 to t do\n",
    "            b1[u]:=b[u]-m; # Отклонение от среднего по каждому значению\n",
    "        b2[1]:= b1[1];\n",
    "        for u:=2 to t do\n",
    "            b2[u+1]:=b2[u]+b1[u];\n",
    "        \n",
    "        # Поиск максимума и минимума для определения размаха\n",
    "        max:=b2[1];\n",
    "        min:=b2[1];\n",
    "        for u:=1 to t do\n",
    "            if b2[u]>max then\n",
    "                max:=b2[u];\n",
    "        for u:=1 to t do\n",
    "            if b2[u]<min then \n",
    "                min:=b2[u];\n",
    "        \n",
    "        h[t-1]:=(max-min)/s; # Подсчёт ?показатея Херста?\n",
    "        t:=t+1; # Увеличение времени\n",
    "    end;\n",
    "    \n",
    "    for i:=1 to t do\n",
    "    begin\n",
    "        if h[i] <> 0 then \n",
    "            hlg[i]:=ln(h[i]); # Логарифмирование ?показателя Херста?\n",
    "        memo2.Lines.add(floattostr(hlg[i])); # Запись этого значения во второе поле\n",
    "    end;\n",
    "    \n",
    "    for i:=1 to n do \n",
    "        x[i]:=ln(i); # В душе не ебу, откуда это взялось\n",
    "    sigma1:=0;\n",
    "    sigma2:=0;\n",
    "    r0:=0;\n",
    "    r1:=0;\n",
    "    for i:=1 to n do\n",
    "    begin\n",
    "        sigma1:=sigma1+x[i]; # Сумма каких-то значений\n",
    "        sigma2:=sigma2+x[i]*x[i]; # Сумма квадратов этих значений\n",
    "        r0:=r0+hlg[i]; # Логарифмированные показатели сумма\n",
    "        r1:=r1+hlg[i]*x[i]; # Сумма произведения логарифмированного показателя и непонятной переменной... СПАСИТЕ\n",
    "    end;\n",
    "    \n",
    "    k22:=(n*r1-r0*sigma1)/(n*sigma2-sigma1*sigma1);\n",
    "    b22:=(r0*sigma2-r1*sigma2)/(n*sigma2-sigma1*sigma1);\n",
    "    label2.Caption:=floattostr(k22); \n",
    "    label4.Caption:=floattostr(2-k22);\n",
    "    for i:=1 to n do\n",
    "        series2.AddXY(x[i],hlg[i]); # Ну нахуй! ...буду проституткой\n",
    "    series3.AddXY(x[1],hlg[1]); # ОТКУДА БЛЯТЬ ВЗЯЛСЯ ТРЕТИЙ ГРАФИК\n",
    "    series3.AddXY(x[n],hlg[n]); # ЧТО ТУТ ПРОИСХОДИТ\n",
    "end;"
   ]
  }
 ],
 "metadata": {
  "kernelspec": {
   "display_name": "Python 3 (ipykernel)",
   "language": "python",
   "name": "python3"
  },
  "language_info": {
   "codemirror_mode": {
    "name": "ipython",
    "version": 3
   },
   "file_extension": ".py",
   "mimetype": "text/x-python",
   "name": "python",
   "nbconvert_exporter": "python",
   "pygments_lexer": "ipython3",
   "version": "3.9.13"
  }
 },
 "nbformat": 4,
 "nbformat_minor": 5
}
